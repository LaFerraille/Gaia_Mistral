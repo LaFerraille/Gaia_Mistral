{
 "cells": [
  {
   "cell_type": "code",
   "execution_count": 23,
   "metadata": {},
   "outputs": [],
   "source": [
    "import requests\n",
    "import json\n",
    "import datetime\n",
    "from pprint import pprint"
   ]
  },
  {
   "cell_type": "markdown",
   "metadata": {},
   "source": [
    "but du script : récupérer des données pour le rag :\n",
    " \n",
    "https://www.gaia-mistral.org/public_datas/\n"
   ]
  },
  {
   "cell_type": "markdown",
   "metadata": {},
   "source": [
    "### 1. Climate, Environment, Imagery and Weather"
   ]
  },
  {
   "cell_type": "code",
   "execution_count": 20,
   "metadata": {},
   "outputs": [
    {
     "name": "stdout",
     "output_type": "stream",
     "text": [
      "{'2024-02-23 01:00:00': 'Location : Paris, Temperature: 6.3°C, Weather: broken clouds', '2024-02-23 04:00:00': 'Location : Paris, Temperature: 5.17°C, Weather: few clouds', '2024-02-23 07:00:00': 'Location : Paris, Temperature: 4.86°C, Weather: few clouds', '2024-02-23 10:00:00': 'Location : Paris, Temperature: 5.99°C, Weather: scattered clouds', '2024-02-23 13:00:00': 'Location : Paris, Temperature: 8.26°C, Weather: broken clouds', '2024-02-23 16:00:00': 'Location : Paris, Temperature: 8.95°C, Weather: light rain', '2024-02-23 19:00:00': 'Location : Paris, Temperature: 6.65°C, Weather: light rain', '2024-02-23 22:00:00': 'Location : Paris, Temperature: 5.9°C, Weather: light rain'}\n"
     ]
    }
   ],
   "source": [
    "def get_weather(city, date):\n",
    "    agro_api_key = \"88aaa872e29fedb008a2ffd240ebdf56\"\n",
    "    opencage_api_key = \"bade196e8eac4d33b72dba6d9e40285a\"\n",
    "\n",
    "    # On récupère les lat et lon de la ville\n",
    "    geocode_url = f\"https://api.opencagedata.com/geocode/v1/json?q={city}&key={opencage_api_key}\"\n",
    "    geocode_response = requests.get(geocode_url)\n",
    "    geocode_data = geocode_response.json()\n",
    "\n",
    "    \n",
    "    latitude = geocode_data['results'][0]['geometry']['lat']\n",
    "    longitude = geocode_data['results'][0]['geometry']['lng']\n",
    "\n",
    "    # On demande la météo pour cette ville\n",
    "    forecast_url = f\"http://api.agromonitoring.com/agro/1.0/weather/forecast?lat={latitude}&lon={longitude}&appid={agro_api_key}\"\n",
    "    forecast_response = requests.get(forecast_url)\n",
    "\n",
    "    if forecast_response.status_code == 200:\n",
    "        forecast_data = forecast_response.json()\n",
    "        d={}\n",
    "        for forecast in forecast_data:\n",
    "            datew = datetime.datetime.fromtimestamp(forecast['dt'])\n",
    "            temperature = forecast['main']['temp']\n",
    "            weather_description = forecast['weather'][0]['description']\n",
    "\n",
    "            if str(datew).split(' ')[0]==str(date) :\n",
    "                d[str(datew)]=f\"Location : {city}, Temperature: {round(temperature-273.15,2)}°C, Weather: {weather_description}\"\n",
    "        return d\n",
    "    else:\n",
    "        print(f\"Error: {forecast_response.status_code}\")\n",
    "\n",
    "#exemple\n",
    "a=get_weather('Paris','2024-02-23')\n",
    "print(a)"
   ]
  },
  {
   "cell_type": "markdown",
   "metadata": {},
   "source": [
    "### 2. Biodiversity and plants"
   ]
  },
  {
   "cell_type": "code",
   "execution_count": 22,
   "metadata": {},
   "outputs": [
    {
     "ename": "FileNotFoundError",
     "evalue": "[Errno 2] No such file or directory: '../data/image_1.jpeg'",
     "output_type": "error",
     "traceback": [
      "\u001b[1;31m---------------------------------------------------------------------------\u001b[0m",
      "\u001b[1;31mFileNotFoundError\u001b[0m                         Traceback (most recent call last)",
      "Cell \u001b[1;32mIn[22], line 11\u001b[0m\n\u001b[0;32m      7\u001b[0m api_endpoint \u001b[38;5;241m=\u001b[39m \u001b[38;5;124mf\u001b[39m\u001b[38;5;124m\"\u001b[39m\u001b[38;5;124mhttps://my-api.plantnet.org/v2/identify/\u001b[39m\u001b[38;5;132;01m{\u001b[39;00mPROJECT\u001b[38;5;132;01m}\u001b[39;00m\u001b[38;5;124m?api-key=\u001b[39m\u001b[38;5;132;01m{\u001b[39;00mAPI_KEY\u001b[38;5;132;01m}\u001b[39;00m\u001b[38;5;124m\"\u001b[39m\n\u001b[0;32m     10\u001b[0m image_path_1 \u001b[38;5;241m=\u001b[39m \u001b[38;5;124m\"\u001b[39m\u001b[38;5;124m../data/image_1.jpeg\u001b[39m\u001b[38;5;124m\"\u001b[39m\n\u001b[1;32m---> 11\u001b[0m image_data_1 \u001b[38;5;241m=\u001b[39m \u001b[38;5;28;43mopen\u001b[39;49m\u001b[43m(\u001b[49m\u001b[43mimage_path_1\u001b[49m\u001b[43m,\u001b[49m\u001b[43m \u001b[49m\u001b[38;5;124;43m'\u001b[39;49m\u001b[38;5;124;43mrb\u001b[39;49m\u001b[38;5;124;43m'\u001b[39;49m\u001b[43m)\u001b[49m\n\u001b[0;32m     13\u001b[0m image_path_2 \u001b[38;5;241m=\u001b[39m \u001b[38;5;124m\"\u001b[39m\u001b[38;5;124m../data/image_2.jpeg\u001b[39m\u001b[38;5;124m\"\u001b[39m\n\u001b[0;32m     14\u001b[0m image_data_2 \u001b[38;5;241m=\u001b[39m \u001b[38;5;28mopen\u001b[39m(image_path_2, \u001b[38;5;124m'\u001b[39m\u001b[38;5;124mrb\u001b[39m\u001b[38;5;124m'\u001b[39m)\n",
      "File \u001b[1;32m~\\AppData\\Roaming\\Python\\Python311\\site-packages\\IPython\\core\\interactiveshell.py:308\u001b[0m, in \u001b[0;36m_modified_open\u001b[1;34m(file, *args, **kwargs)\u001b[0m\n\u001b[0;32m    301\u001b[0m \u001b[38;5;28;01mif\u001b[39;00m file \u001b[38;5;129;01min\u001b[39;00m {\u001b[38;5;241m0\u001b[39m, \u001b[38;5;241m1\u001b[39m, \u001b[38;5;241m2\u001b[39m}:\n\u001b[0;32m    302\u001b[0m     \u001b[38;5;28;01mraise\u001b[39;00m \u001b[38;5;167;01mValueError\u001b[39;00m(\n\u001b[0;32m    303\u001b[0m         \u001b[38;5;124mf\u001b[39m\u001b[38;5;124m\"\u001b[39m\u001b[38;5;124mIPython won\u001b[39m\u001b[38;5;124m'\u001b[39m\u001b[38;5;124mt let you open fd=\u001b[39m\u001b[38;5;132;01m{\u001b[39;00mfile\u001b[38;5;132;01m}\u001b[39;00m\u001b[38;5;124m by default \u001b[39m\u001b[38;5;124m\"\u001b[39m\n\u001b[0;32m    304\u001b[0m         \u001b[38;5;124m\"\u001b[39m\u001b[38;5;124mas it is likely to crash IPython. If you know what you are doing, \u001b[39m\u001b[38;5;124m\"\u001b[39m\n\u001b[0;32m    305\u001b[0m         \u001b[38;5;124m\"\u001b[39m\u001b[38;5;124myou can use builtins\u001b[39m\u001b[38;5;124m'\u001b[39m\u001b[38;5;124m open.\u001b[39m\u001b[38;5;124m\"\u001b[39m\n\u001b[0;32m    306\u001b[0m     )\n\u001b[1;32m--> 308\u001b[0m \u001b[38;5;28;01mreturn\u001b[39;00m \u001b[43mio_open\u001b[49m\u001b[43m(\u001b[49m\u001b[43mfile\u001b[49m\u001b[43m,\u001b[49m\u001b[43m \u001b[49m\u001b[38;5;241;43m*\u001b[39;49m\u001b[43margs\u001b[49m\u001b[43m,\u001b[49m\u001b[43m \u001b[49m\u001b[38;5;241;43m*\u001b[39;49m\u001b[38;5;241;43m*\u001b[39;49m\u001b[43mkwargs\u001b[49m\u001b[43m)\u001b[49m\n",
      "\u001b[1;31mFileNotFoundError\u001b[0m: [Errno 2] No such file or directory: '../data/image_1.jpeg'"
     ]
    }
   ],
   "source": [
    "API_KEY = \"2b101jEjwr04gCjUULbEsts\"\n",
    "PROJECT = \"weurope\" # try \"weurope\" or \"canada\"\n",
    "api_endpoint = f\"https://my-api.plantnet.org/v2/identify/{PROJECT}?api-key={API_KEY}\"\n",
    "\n",
    "\n",
    "image_path_1 = \"../data/image_1.jpeg\"\n",
    "image_data_1 = open(image_path_1, 'rb')\n",
    "\n",
    "image_path_2 = \"../data/image_2.jpeg\"\n",
    "image_data_2 = open(image_path_2, 'rb')\n",
    "\n",
    "\n",
    "data = {\n",
    "    'organs': ['flower', 'leaf']\n",
    "}\n",
    "\n",
    "files = [\n",
    "    ('images', (image_path_1, image_data_1)),\n",
    "    ('images', (image_path_2, image_data_2))\n",
    "]\n",
    "\n",
    "req = requests.Request('POST', url=api_endpoint, files=files, data=data)\n",
    "prepared = req.prepare()\n",
    "\n",
    "s = requests.Session()\n",
    "response = s.send(prepared)\n",
    "json_result = json.loads(response.text)\n",
    "\n",
    "pprint(response.status_code)\n",
    "pprint(json_result)"
   ]
  }
 ],
 "metadata": {
  "kernelspec": {
   "display_name": "Python 3",
   "language": "python",
   "name": "python3"
  },
  "language_info": {
   "codemirror_mode": {
    "name": "ipython",
    "version": 3
   },
   "file_extension": ".py",
   "mimetype": "text/x-python",
   "name": "python",
   "nbconvert_exporter": "python",
   "pygments_lexer": "ipython3",
   "version": "3.11.4"
  }
 },
 "nbformat": 4,
 "nbformat_minor": 2
}
