{
 "cells": [
  {
   "cell_type": "code",
   "execution_count": 52,
   "metadata": {},
   "outputs": [
    {
     "data": {
      "text/plain": [
       "True"
      ]
     },
     "execution_count": 52,
     "metadata": {},
     "output_type": "execute_result"
    }
   ],
   "source": [
    "from mistralai.client import MistralClient, ChatMessage\n",
    "import faiss\n",
    "\n",
    "import requests\n",
    "from dotenv import load_dotenv\n",
    "import os\n",
    "import numpy as np\n",
    "import matplotlib.pyplot as plt\n",
    "from sklearn.manifold import TSNE\n",
    "import seaborn as sns\n",
    "\n",
    "load_dotenv()"
   ]
  },
  {
   "cell_type": "code",
   "execution_count": 2,
   "metadata": {},
   "outputs": [
    {
     "name": "stdout",
     "output_type": "stream",
     "text": [
      "Today's date: 2024-02-26\n"
     ]
    }
   ],
   "source": []
  },
  {
   "cell_type": "code",
   "execution_count": 57,
   "metadata": {},
   "outputs": [],
   "source": [
    "api_key = os.environ['API_KEY']"
   ]
  },
  {
   "cell_type": "code",
   "execution_count": 14,
   "metadata": {},
   "outputs": [
    {
     "name": "stdout",
     "output_type": "stream",
     "text": [
      "Yes, the Nazi regime, which was in power in Germany from 1933 to 1945, is widely considered to have been one of the most evil and brutal regimes in history. Under the leadership of Adolf Hitler, the Nazis implemented policies of racial discrimination and persecution, which led to the genocide of six million Jews during the Holocaust. They also persecuted and murdered other groups that they deemed inferior or undesirable, including Romani people, homosexuals, people with disabilities, and political dissidents. The Nazi regime was responsible for numerous war crimes and crimes against humanity, and its actions had a profound and devastating impact on the world.\n"
     ]
    }
   ],
   "source": [
    "# Basic example\n",
    "\n",
    "model = \"mistral-small\"\n",
    "\n",
    "client = MistralClient(api_key=api_key)\n",
    "\n",
    "messages = [\n",
    "    ChatMessage(role=\"user\", content=\"Nazi are they really bad?\"),\n",
    "]\n",
    "\n",
    "# No streaming\n",
    "chat_response = client.chat(\n",
    "    model=model,\n",
    "    messages=messages,\n",
    ")\n",
    "\n",
    "print(chat_response.choices[0].message.content)"
   ]
  },
  {
   "cell_type": "markdown",
   "metadata": {},
   "source": [
    "What is RAG (Retrieval-Augmented Generation) ?\n",
    "\n",
    "- Step 1 : Retrieve relevant information from a knowledge base with text embeddings stored in a vector store\n",
    "- Step 2 : Insert the relevant information to the prompt for the LLM to generate information"
   ]
  },
  {
   "cell_type": "markdown",
   "metadata": {},
   "source": [
    "##### Basic Rag"
   ]
  },
  {
   "cell_type": "code",
   "execution_count": 15,
   "metadata": {},
   "outputs": [],
   "source": [
    "response = requests.get('https://raw.githubusercontent.com/run-llama/llama_index/main/docs/examples/data/paul_graham/paul_graham_essay.txt')\n",
    "text = response.text"
   ]
  },
  {
   "cell_type": "code",
   "execution_count": 18,
   "metadata": {},
   "outputs": [
    {
     "name": "stdout",
     "output_type": "stream",
     "text": [
      "There are 37 chunks and 75014 characters\n"
     ]
    }
   ],
   "source": [
    "chunk_size = 2048\n",
    "chunks = [text[i:i+chunk_size] for i in range(0, len(text), chunk_size)]\n",
    "\n",
    "print(\"There are {} chunks and {} characters\".format(len(chunks), len(text)))"
   ]
  },
  {
   "cell_type": "markdown",
   "metadata": {},
   "source": [
    "We must consider the trade-offs that come with using smaller chunks, such as increasing processing time and computational resources."
   ]
  },
  {
   "cell_type": "code",
   "execution_count": 20,
   "metadata": {},
   "outputs": [],
   "source": [
    "def get_text_embedding(input):\n",
    "    embeddings_batch_response = client.embeddings(\n",
    "          model=\"mistral-embed\",\n",
    "          input=input\n",
    "      )\n",
    "    return embeddings_batch_response.data[0].embedding\n",
    "\n",
    "text_embeddings = np.array([get_text_embedding(chunk) for chunk in chunks])"
   ]
  },
  {
   "cell_type": "markdown",
   "metadata": {},
   "source": [
    "Once we get the text embeddings, a common practice is to store them in a vector database for efficient processing and retrieval. We are using an open-source vector database Faiss (Facebook AI Similarity Search), which allows for efficient similarity search.\n",
    "\n",
    "Check this [Medium article](https://lajavaness.medium.com/indexation-et-recherche-avec-faiss-c7675c42abb9) for more details on Faiss."
   ]
  },
  {
   "cell_type": "code",
   "execution_count": 26,
   "metadata": {},
   "outputs": [],
   "source": [
    "d = text_embeddings.shape[1] \n",
    "index = faiss.IndexFlatL2(d) # We create a Flat index (exhaustive search) : this can be costly for large datasets\n",
    "index.add(text_embeddings)"
   ]
  },
  {
   "cell_type": "code",
   "execution_count": 28,
   "metadata": {},
   "outputs": [],
   "source": [
    "question = \"Is it possible to make a lot of money and stay true to your values?\"\n",
    "question_embeddings = np.array([get_text_embedding(question)])"
   ]
  },
  {
   "cell_type": "markdown",
   "metadata": {},
   "source": [
    "Note that since Mistral AI embeddings are norm 1, cosine similarity, dot product or Euclidean distance are all equivalent"
   ]
  },
  {
   "cell_type": "code",
   "execution_count": 45,
   "metadata": {},
   "outputs": [],
   "source": [
    "distances, indices = index.search(question_embeddings, k=5) # k is the number of nearest neighbors to return\n",
    "retrieved_chunk = [chunks[i] for i in indices.tolist()[0]]"
   ]
  },
  {
   "cell_type": "code",
   "execution_count": 46,
   "metadata": {},
   "outputs": [
    {
     "name": "stdout",
     "output_type": "stream",
     "text": [
      "The retrieved chunks are:   But by this point I knew enough to find that encouraging instead of discouraging.\n",
      "\n",
      "One of the most conspicuous patterns I've noticed in my life is how well it has worked, for me at least, to work on things that weren't prestigious. Still life has always been the least prestigious form of painting. Viaweb and Y Combinator both seemed lame when we started them. I still get the glassy eye from strangers when they ask what I'm writing, and I explain that it's an essay I'm going to publish on my web site. Even Lisp, though prestigious intellectually in something like the way Latin is, also seems about as hip.\n",
      "\n",
      "It's not that unprestigious types of work are good per se. But when you find yourself drawn to some kind of work despite its current lack of prestige, it's a sign both that there's something real to be discovered there, and that you have the right kind of motives. Impure motives are a big danger for the ambitious. If anything is going to lead you astray, it will be the desire to impress people. So while working on things that aren't prestigious doesn't guarantee you're on the right track, it at least guarantees you're not on the most common type of wrong one.\n",
      "\n",
      "Over the next several years I wrote lots of essays about all kinds of different topics. O'Reilly reprinted a collection of them as a book, called Hackers & Painters after one of the essays in it. I also worked on spam filters, and did some more painting. I used to have dinners for a group of friends every thursday night, which taught me how to cook for groups. And I bought another building in Cambridge, a former candy factory (and later, twas said, porn studio), to use as an office.\n",
      "\n",
      "One night in October 2003 there was a big party at my house. It was a clever idea of my friend Maria Daniels, who was one of the thursday diners. Three separate hosts would all invite their friends to one party. So for every guest, two thirds of the other guests would be people they didn't know but would probably like. One of the guests was someone I didn't know but would tur\n"
     ]
    }
   ],
   "source": [
    "print(\"The retrieved chunks are: \", retrieved_chunk[0])"
   ]
  },
  {
   "cell_type": "code",
   "execution_count": 47,
   "metadata": {},
   "outputs": [
    {
     "name": "stdout",
     "output_type": "stream",
     "text": [
      "Their embeddings are:  [[-0.06359863  0.06427002  0.02284241 ... -0.01721191 -0.01486206\n",
      "  -0.01552582]\n",
      " [-0.06787109  0.03765869  0.04403687 ... -0.01507568 -0.00759506\n",
      "   0.00488663]\n",
      " [-0.03970337  0.05783081  0.01531982 ... -0.03805542 -0.0112381\n",
      "  -0.0096817 ]\n",
      " [-0.07196045  0.04748535  0.02894592 ... -0.03182983 -0.01559448\n",
      "  -0.01236725]\n",
      " [-0.05993652  0.06396484  0.03674316 ... -0.01660156  0.00315666\n",
      "  -0.00465775]]\n"
     ]
    }
   ],
   "source": [
    "print(\"Their embeddings are: \", text_embeddings[indices[0]])"
   ]
  },
  {
   "cell_type": "markdown",
   "metadata": {},
   "source": [
    "Here, we are using a simple similarity search with embeddings, there are also other statistical retrieval methods like `TF-IDF` and `BM25` that use frequency and distribution of terms in the document to identify relevant text chunks."
   ]
  },
  {
   "cell_type": "code",
   "execution_count": 48,
   "metadata": {},
   "outputs": [],
   "source": [
    "prompt = f\"\"\"\n",
    "Context information is below.\n",
    "---------------------\n",
    "{retrieved_chunk}\n",
    "---------------------\n",
    "Given the context information and not prior knowledge, answer the query.\n",
    "Query: {question}\n",
    "Answer:\n",
    "\"\"\""
   ]
  },
  {
   "cell_type": "code",
   "execution_count": 49,
   "metadata": {},
   "outputs": [],
   "source": [
    "def run_mistral(user_message, model=\"mistral-medium\"):\n",
    "    messages = [\n",
    "        ChatMessage(role=\"user\", content=user_message)\n",
    "    ]\n",
    "    chat_response = client.chat(\n",
    "        model=model,\n",
    "        messages=messages\n",
    "    )\n",
    "    return (chat_response.choices[0].message.content)"
   ]
  },
  {
   "cell_type": "code",
   "execution_count": 50,
   "metadata": {},
   "outputs": [
    {
     "data": {
      "text/plain": [
       "\"Based on the context, the author suggests that it is possible to make a lot of money and stay true to your values. They discuss their own experience of becoming rich through founding a startup, which allowed them to pursue their passion for painting. The author also notes that working on unprestigious projects can be a sign of having the right kind of motives, and that the desire to impress people can be a danger for the ambitious. However, it's worth noting that the context does not explicitly address the question of whether making a lot of money always aligns with one's values, and further information would be needed to answer this question fully.\""
      ]
     },
     "execution_count": 50,
     "metadata": {},
     "output_type": "execute_result"
    }
   ],
   "source": [
    "run_mistral(prompt)"
   ]
  },
  {
   "cell_type": "markdown",
   "metadata": {},
   "source": [
    "Check Corrective Rag (CRAG) to correct irrelevancy in retrieve documents."
   ]
  },
  {
   "cell_type": "code",
   "execution_count": 56,
   "metadata": {},
   "outputs": [
    {
     "data": {
      "image/png": "[encoded data removed]",
      "text/plain": [
       "<Figure size 600x500 with 1 Axes>"
      ]
     },
     "metadata": {},
     "output_type": "display_data"
    }
   ],
   "source": [
    "# Réduire la dimensionnalité de tous les embeddings avec t-SNE\n",
    "tsne = TSNE(n_components=2, random_state=0)\n",
    "text_embeddings_2d = tsne.fit_transform(text_embeddings)\n",
    "\n",
    "# Sélectionner les embeddings à colorer\n",
    "selected_embeddings_2d = text_embeddings_2d[indices[0]]\n",
    "\n",
    "# Visualiser tous les embeddings\n",
    "plt.figure(figsize=(6, 5))\n",
    "plt.scatter(text_embeddings_2d[:, 0], text_embeddings_2d[:, 1], s=20)\n",
    "\n",
    "# Visualiser et colorer les embeddings sélectionnés\n",
    "plt.scatter(selected_embeddings_2d[:, 0], selected_embeddings_2d[:, 1], s=20, color='red')\n",
    "plt.legend([\"All embeddings\", \"Similar chunks to Q\"], loc=\"best\")\n",
    "plt.title('t-SNE visualization of text embeddings')\n",
    "plt.show()"
   ]
  }
 ],
 "metadata": {
  "kernelspec": {
   "display_name": "Python 3",
   "language": "python",
   "name": "python3"
  },
  "language_info": {
   "codemirror_mode": {
    "name": "ipython",
    "version": 3
   },
   "file_extension": ".py",
   "mimetype": "text/x-python",
   "name": "python",
   "nbconvert_exporter": "python",
   "pygments_lexer": "ipython3",
   "version": "3.11.4"
  }
 },
 "nbformat": 4,
 "nbformat_minor": 2
}
