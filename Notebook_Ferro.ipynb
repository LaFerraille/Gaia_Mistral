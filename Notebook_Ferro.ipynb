{
 "cells": [
  {
   "cell_type": "code",
   "execution_count": 9,
   "metadata": {},
   "outputs": [
    {
     "name": "stdout",
     "output_type": "stream",
     "text": [
      "It is subjective to determine the \"best\" French cheese as it largely depends on personal preferences. Some popular and highly regarded French cheeses include:\n",
      "\n",
      "1. Roquefort: A blue-veined cheese from the Massif Central region, known for its distinctive pungent smell and tangy, salty flavor.\n",
      "\n",
      "2. Camembert: A soft, creamy cheese from Normandy, with a white rind and a earthy, rich taste.\n",
      "\n",
      "3. Brie: A soft, creamy cheese with a white rind and a subtle, buttery flavor. It originated in the region of Brie, in north-central France.\n",
      "\n",
      "4. Comté: A hard, nutty cheese from the Franche-Comté region in eastern France, often aged for several years.\n",
      "\n",
      "5. Munster: A soft, smelly cheese from the Alsace region, with a distinctive orange rind and a pungent, earthy flavor.\n",
      "\n",
      "6. Chaource: A soft, creamy cheese from the Ile-de-France region, with a white rind and a mild, buttery taste.\n",
      "\n",
      "7. Époisses: A soft, pungent cheese from the Burgundy region, with a distinctive orange rind and a strong, complex flavor.\n",
      "\n",
      "8. Reblochon: A soft, creamy cheese from the Savoie region, with a white rind and a rich, buttery taste.\n",
      "\n",
      "These are just a few examples, and there are many other delicious French cheeses out there, each with unique flavors and textures. Try different varieties to find the one that best suits your taste buds!\n"
     ]
    }
   ],
   "source": [
    "from mistralai.client import MistralClient\n",
    "from mistralai.models.chat_completion import ChatMessage\n",
    "from dotenv import load_dotenv\n",
    "import os\n",
    "\n",
    "load_dotenv()\n",
    "\n",
    "api_key = os.environ['API_KEY']\n",
    "model = \"mistral-tiny\"\n",
    "\n",
    "client = MistralClient(api_key=api_key)\n",
    "\n",
    "messages = [\n",
    "    ChatMessage(role=\"user\", content=\"What is the best French cheese?\")\n",
    "]\n",
    "\n",
    "# No streaming\n",
    "chat_response = client.chat(\n",
    "    model=model,\n",
    "    messages=messages,\n",
    ")\n",
    "\n",
    "print(chat_response.choices[0].message.content)"
   ]
  }
 ],
 "metadata": {
  "kernelspec": {
   "display_name": "Python 3",
   "language": "python",
   "name": "python3"
  },
  "language_info": {
   "codemirror_mode": {
    "name": "ipython",
    "version": 3
   },
   "file_extension": ".py",
   "mimetype": "text/x-python",
   "name": "python",
   "nbconvert_exporter": "python",
   "pygments_lexer": "ipython3",
   "version": "3.11.5"
  }
 },
 "nbformat": 4,
 "nbformat_minor": 2
}
