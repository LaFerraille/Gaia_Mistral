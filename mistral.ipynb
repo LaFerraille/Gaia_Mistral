{
 "cells": [
  {
   "cell_type": "code",
   "execution_count": 1,
   "metadata": {},
   "outputs": [],
   "source": [
    "from mistralai.client import MistralClient\n",
    "from mistralai.models.chat_completion import ChatMessage\n",
    "import os"
   ]
  },
  {
   "cell_type": "code",
   "execution_count": 2,
   "metadata": {},
   "outputs": [
    {
     "name": "stdout",
     "output_type": "stream",
     "text": [
      "The term \"best\" can be subjective as it depends on personal preferences, as French cheese comes in a wide variety of types, textures, and flavors. Here are some famous and beloved French cheeses that you may want to try:\n",
      "\n",
      "1. Roquefort: A blue-veined sheep's milk cheese from the Massif Central region of France, known for its pungent, tangy flavor and creamy texture.\n",
      "2. Camembert: A soft, white, surface-ripened cow's milk cheese from Normandy, characterized by its earthy, mushroomy, and slightly sour taste.\n",
      "3. Brie de Meaux: A soft, creamy cow's milk cheese with a white rind, originating from the Marne region, known for its mild, buttery, and slightly sweet flavor.\n",
      "4. Comté: A hard, nutty, and slightly sweet cow's milk cheese from the Franche-Comté region, with a complex, rich, and savory taste.\n",
      "5. Munster: A soft, pungent, smelly cow's milk cheese from Alsace, known for its strong, distinctive aroma and flavor, with hints of garlic and onion.\n",
      "6. Époisses: A soft, pungent, and runny cow's milk cheese from Burgundy, famous for its strong, ammonia-like smell and rich, buttery taste.\n",
      "7. Chaource: A soft, white, surface-ripened cow's milk cheese from the Île-de-France region, with a mild, buttery, and slightly tangy flavor.\n",
      "\n",
      "Ultimately, the best French cheese for you depends on your personal taste preferences. You might want to try a few different types to find the one that suits you best.\n"
     ]
    }
   ],
   "source": [
    "api_key = os.environ['API_KEY']\n",
    "model = \"mistral-tiny\"\n",
    "\n",
    "client = MistralClient(api_key=api_key)\n",
    "\n",
    "messages = [\n",
    "    ChatMessage(role=\"user\", content=\"What is the best French cheese?\")\n",
    "]\n",
    "\n",
    "# No streaming\n",
    "chat_response = client.chat(\n",
    "    model=model,\n",
    "    messages=messages,\n",
    ")\n",
    "\n",
    "print(chat_response.choices[0].message.content)"
   ]
  }
 ],
 "metadata": {
  "kernelspec": {
   "display_name": "Python 3",
   "language": "python",
   "name": "python3"
  },
  "language_info": {
   "codemirror_mode": {
    "name": "ipython",
    "version": 3
   },
   "file_extension": ".py",
   "mimetype": "text/x-python",
   "name": "python",
   "nbconvert_exporter": "python",
   "pygments_lexer": "ipython3",
   "version": "3.11.4"
  }
 },
 "nbformat": 4,
 "nbformat_minor": 2
}
